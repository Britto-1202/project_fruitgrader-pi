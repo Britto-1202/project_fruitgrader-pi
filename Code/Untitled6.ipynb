{
  "nbformat": 4,
  "nbformat_minor": 0,
  "metadata": {
    "colab": {
      "provenance": []
    },
    "kernelspec": {
      "name": "python3",
      "display_name": "Python 3"
    },
    "language_info": {
      "name": "python"
    }
  },
  "cells": [
    {
      "cell_type": "code",
      "execution_count": null,
      "metadata": {
        "colab": {
          "base_uri": "https://localhost:8080/"
        },
        "id": "Sz1vT1Cqml96",
        "outputId": "84ce7fdd-a3f3-414d-ec55-3363dd52a49f"
      },
      "outputs": [
        {
          "output_type": "stream",
          "name": "stdout",
          "text": [
            "1/1 [==============================] - 1s 998ms/step\n",
            "[[0. 0. 0. 0. 0. 1.]]\n",
            "The fruit is rotten oranges.\n"
          ]
        }
      ],
      "source": [
        "\n",
        "from tensorflow import keras\n",
        "from keras.preprocessing import image\n",
        "import numpy as np\n",
        "from keras.utils import load_img,img_to_array\n",
        "model = keras.models.load_model('/content/drive/MyDrive/model.h5')\n",
        "img_height, img_width = 244, 244\n",
        "img_path = '/content/drive/MyDrive/fruts/dataset/dataset/test/rottenoranges/Screen Shot 2018-06-12 at 11.18.34 PM.png'\n",
        "img =load_img(img_path, target_size=(img_height, img_width))\n",
        "x = img_to_array(img)\n",
        "x = np.expand_dims(x, axis=0)\n",
        "x = x / 255.0\n",
        "preds = model.predict(x)\n",
        "print(preds)\n",
        "if preds[0][0] > 0.5:\n",
        "    print(\"The fruit is  apple fresh.\")\n",
        "elif preds[0][1] > 0.5:\n",
        "  print(\"The fruit is  banana fresh.\")\n",
        "elif preds[0][2] > 0.5:\n",
        "  print(\"The fruit is  orange fresh.\")\n",
        "elif preds[0][3] > 0.5:\n",
        "  print(\"The fruit is   rotten apple.\")\n",
        "elif preds[0][4] > 0.5:\n",
        "  print(\"The fruit is  rotten banaba.\")\n",
        "else:\n",
        "    print(\"The fruit is rotten oranges.\")\n"
      ]
    },
    {
      "cell_type": "code",
      "source": [
        "from google.colab import drive\n",
        "drive.mount('/content/drive')"
      ],
      "metadata": {
        "colab": {
          "base_uri": "https://localhost:8080/"
        },
        "id": "VZNtdLvQp89N",
        "outputId": "d4590f88-f862-49cf-e42d-6a42f0aafb9f"
      },
      "execution_count": null,
      "outputs": [
        {
          "output_type": "stream",
          "name": "stdout",
          "text": [
            "Mounted at /content/drive\n"
          ]
        }
      ]
    }
  ]
}